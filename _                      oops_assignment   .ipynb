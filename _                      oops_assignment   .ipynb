{
 "cells": [
  {
   "cell_type": "markdown",
   "id": "b0de52ca-796a-4874-b01f-c0c069a0ba88",
   "metadata": {},
   "source": [
    "Q1, Create a vehicle class with an init method having instance variables as name_of_vehicle, max_speed\n",
    "and average_of_vehicle."
   ]
  },
  {
   "cell_type": "code",
   "execution_count": 5,
   "id": "c947d86e-162a-43a1-ae63-f02ce6fa056a",
   "metadata": {},
   "outputs": [],
   "source": [
    "class vehicle:\n",
    "    def __init__(self, name_of_vehicle,max_speed,average_of_vehicle):\n",
    "        self.name_of_vehicle = name_of_vehicle\n",
    "        self.max_speed = max_speed\n",
    "        self.average_of_vehicle = average_of_vehicle\n",
    "        \n",
    "    def return_vehicle(self):\n",
    "        return self.name_of_vehicle,self.max_speed,self.average_of_vehicle\n",
    "    \n",
    "        \n",
    "        \n",
    "        "
   ]
  },
  {
   "cell_type": "code",
   "execution_count": 16,
   "id": "22f19ffe-a0a7-4676-9561-36015d993105",
   "metadata": {},
   "outputs": [],
   "source": [
    "v = vehicle(\"kia_sonet\",100,15)"
   ]
  },
  {
   "cell_type": "code",
   "execution_count": 13,
   "id": "3ed5a75b-e6c2-400c-8496-3c85e33e5f50",
   "metadata": {},
   "outputs": [
    {
     "data": {
      "text/plain": [
       "15"
      ]
     },
     "execution_count": 13,
     "metadata": {},
     "output_type": "execute_result"
    }
   ],
   "source": [
    "v.average_of_vehicle"
   ]
  },
  {
   "cell_type": "code",
   "execution_count": 17,
   "id": "40b1b8e7-c271-4ac6-872b-3cf7040272fd",
   "metadata": {},
   "outputs": [
    {
     "data": {
      "text/plain": [
       "'kia_sonet'"
      ]
     },
     "execution_count": 17,
     "metadata": {},
     "output_type": "execute_result"
    }
   ],
   "source": [
    "v.name_of_vehicle"
   ]
  },
  {
   "cell_type": "code",
   "execution_count": 15,
   "id": "11cde36a-7924-4689-a2e4-3dcce3d9fa28",
   "metadata": {},
   "outputs": [
    {
     "data": {
      "text/plain": [
       "100"
      ]
     },
     "execution_count": 15,
     "metadata": {},
     "output_type": "execute_result"
    }
   ],
   "source": [
    "v.max_speed"
   ]
  },
  {
   "cell_type": "code",
   "execution_count": 19,
   "id": "8af60727-75df-4e99-99e6-dba82768dd71",
   "metadata": {},
   "outputs": [
    {
     "data": {
      "text/plain": [
       "('kia_sonet', 100, 15)"
      ]
     },
     "execution_count": 19,
     "metadata": {},
     "output_type": "execute_result"
    }
   ],
   "source": [
    "v.return_vehicle()"
   ]
  },
  {
   "cell_type": "markdown",
   "id": "939a129b-269b-425e-bb97-84dc54c2e6ae",
   "metadata": {},
   "source": [
    "Q2. Create a child class car from the vehicle class created in Que 1, which will inherit the vehicle class.\n",
    "Create a method named seating_capacity which takes capacity as an argument and returns the name of\n",
    "the vehicle and its seating capacity."
   ]
  },
  {
   "cell_type": "code",
   "execution_count": 21,
   "id": "3b123164-7e1a-45d9-adda-ee40207f29ad",
   "metadata": {},
   "outputs": [],
   "source": [
    "class vehicle_class:\n",
    "    def __init__(self, seating_capacity,vehicle_name):\n",
    "        self.seating_capacity =seating_capacity\n",
    "        self.vehicle_name = vehicle_name\n",
    "        \n",
    "    def return_vehicle_class(self):\n",
    "        return self.vehicle_class,self.vehicle_name"
   ]
  },
  {
   "cell_type": "code",
   "execution_count": 22,
   "id": "6e4dfa34-2962-4c0d-a49a-cf2edf558b5a",
   "metadata": {},
   "outputs": [],
   "source": [
    "class vehicle_class2(vehicle_class):\n",
    "    pass\n",
    "    "
   ]
  },
  {
   "cell_type": "code",
   "execution_count": 29,
   "id": "64f7a2e5-bb58-4f13-b227-d97b67c46057",
   "metadata": {},
   "outputs": [],
   "source": [
    "vehicle = vehicle_class2(5,\"seltos\")"
   ]
  },
  {
   "cell_type": "code",
   "execution_count": 30,
   "id": "50932a52-372d-4c42-8770-b9dd13178855",
   "metadata": {},
   "outputs": [
    {
     "data": {
      "text/plain": [
       "'seltos'"
      ]
     },
     "execution_count": 30,
     "metadata": {},
     "output_type": "execute_result"
    }
   ],
   "source": [
    "vehicle.vehicle_name"
   ]
  },
  {
   "cell_type": "code",
   "execution_count": 31,
   "id": "85665b27-8f5b-40f5-92d3-666bd989db78",
   "metadata": {},
   "outputs": [
    {
     "data": {
      "text/plain": [
       "5"
      ]
     },
     "execution_count": 31,
     "metadata": {},
     "output_type": "execute_result"
    }
   ],
   "source": [
    "vehicle.seating_capacity"
   ]
  },
  {
   "cell_type": "markdown",
   "id": "a418ece7-645d-428b-95ab-bed779d742f4",
   "metadata": {},
   "source": [
    "Q3. What is multiple inheritance? Write a python code to demonstrate multiple inheritance."
   ]
  },
  {
   "cell_type": "code",
   "execution_count": 69,
   "id": "871c7c99-42c6-4a51-8cec-24ea580d8ee4",
   "metadata": {},
   "outputs": [],
   "source": [
    "class kia_car:\n",
    "    def seltos():\n",
    "        return \"this is seltos\"\n",
    "    \n",
    "    \n",
    "\n",
    "    "
   ]
  },
  {
   "cell_type": "code",
   "execution_count": 70,
   "id": "c706240e-ea11-41bb-9b4b-d39f17c0b8b6",
   "metadata": {},
   "outputs": [],
   "source": [
    "class hyundai_car:\n",
    "    def creta():\n",
    "        return \"this is creta\""
   ]
  },
  {
   "cell_type": "code",
   "execution_count": 71,
   "id": "fe51c79e-f354-4bca-a738-2980b90b541f",
   "metadata": {},
   "outputs": [],
   "source": [
    "class cars(kia_car,hyundai_car):\n",
    "    pass"
   ]
  },
  {
   "cell_type": "code",
   "execution_count": 72,
   "id": "ec3a2482-12e0-463d-a69b-ad3937ed876d",
   "metadata": {},
   "outputs": [],
   "source": [
    "cars_obj = cars"
   ]
  },
  {
   "cell_type": "code",
   "execution_count": 73,
   "id": "e27e4b9d-ed16-4312-814f-a94a0126f5f9",
   "metadata": {},
   "outputs": [
    {
     "data": {
      "text/plain": [
       "'this is creta'"
      ]
     },
     "execution_count": 73,
     "metadata": {},
     "output_type": "execute_result"
    }
   ],
   "source": [
    "cars_obj.creta()"
   ]
  },
  {
   "cell_type": "code",
   "execution_count": 74,
   "id": "0e8585f1-61b8-4113-8897-d2f1e6a7ba7d",
   "metadata": {},
   "outputs": [
    {
     "data": {
      "text/plain": [
       "'this is seltos'"
      ]
     },
     "execution_count": 74,
     "metadata": {},
     "output_type": "execute_result"
    }
   ],
   "source": [
    "cars_obj.seltos()"
   ]
  },
  {
   "cell_type": "markdown",
   "id": "d3fb216a-5750-446f-9c7c-22692f347ace",
   "metadata": {},
   "source": [
    "Q4. What are getter and setter in python? Create a class and create a getter and a setter method in this\n",
    "class."
   ]
  },
  {
   "cell_type": "code",
   "execution_count": 52,
   "id": "0467ae39-8218-4cc3-a433-d9def0ff86ef",
   "metadata": {},
   "outputs": [],
   "source": [
    "class dosa:\n",
    "    def __init__(self, masala_dosa, palin_dosa, quantity_dosa):\n",
    "        self.__masala_dosa= masala_dosa\n",
    "        self.__palin_dosa= palin_dosa\n",
    "        self.__quantity_dosa= quantity_dosa\n",
    "        \n",
    "    def set_quantity_dosa(self,quantity_dosa):\n",
    "        self.__quantity_dosa = 0 if quantity_dosa < 0 else quantity_dosa\n",
    "        \n",
    "    def get_quantity_dosa(self,quantity_dosa):\n",
    "        return self.__quantity_dosa"
   ]
  },
  {
   "cell_type": "code",
   "execution_count": 54,
   "id": "bcd28544-eeae-443a-9042-d09e4d772027",
   "metadata": {},
   "outputs": [],
   "source": [
    "a = dosa(palin_dosa=1,masala_dosa=1,quantity_dosa=1)"
   ]
  },
  {
   "cell_type": "code",
   "execution_count": 55,
   "id": "3acd4db0-c31e-479c-88da-b05e1fa26983",
   "metadata": {},
   "outputs": [],
   "source": [
    "a.set_quantity_dosa(1)"
   ]
  },
  {
   "cell_type": "code",
   "execution_count": 58,
   "id": "f924ab00-07ef-4915-9264-ea8fd74103db",
   "metadata": {},
   "outputs": [
    {
     "data": {
      "text/plain": [
       "1"
      ]
     },
     "execution_count": 58,
     "metadata": {},
     "output_type": "execute_result"
    }
   ],
   "source": [
    "a.get_quantity_dosa(1)"
   ]
  },
  {
   "cell_type": "markdown",
   "id": "532fc50a-89ca-406d-858a-be81dfc90d6f",
   "metadata": {},
   "source": [
    "Q5.What is method overriding in python? Write a python code to demonstrate method overriding."
   ]
  },
  {
   "cell_type": "code",
   "execution_count": 61,
   "id": "03d072c6-f1ad-4d6c-b2e9-56f512f37e71",
   "metadata": {},
   "outputs": [],
   "source": [
    "import abc\n",
    "\n",
    "class abcandco:\n",
    "    @abc.abstractmethod\n",
    "    def employee_name(self):\n",
    "        pass\n",
    "    @abc.abstractmethod\n",
    "    def month(self):\n",
    "        pass\n",
    "    @abc.abstractmethod\n",
    "    def employee_present(self):\n",
    "        pass\n",
    "    @abc.abstractmethod\n",
    "    def employee_absent(self):\n",
    "        pass\n"
   ]
  },
  {
   "cell_type": "code",
   "execution_count": 69,
   "id": "e697b6fa-e330-4ddb-b76c-b590e0c9801a",
   "metadata": {},
   "outputs": [],
   "source": [
    "class employee_details(abcandco):\n",
    "    \n",
    "    def employee_name(self):\n",
    "        return \"akash\"\n",
    "    def month(self):\n",
    "        return \"january\"\n",
    "    def employee_present(self):\n",
    "        return 25\n",
    "    def employee_absent(self):\n",
    "        return 5"
   ]
  },
  {
   "cell_type": "code",
   "execution_count": 70,
   "id": "4f152398-1742-4466-b57d-f3d317d62a4c",
   "metadata": {},
   "outputs": [],
   "source": [
    "emp = employee_details()"
   ]
  },
  {
   "cell_type": "code",
   "execution_count": 71,
   "id": "6d1a4c29-f4f8-496e-b608-d9dd0dfcc4f8",
   "metadata": {},
   "outputs": [
    {
     "data": {
      "text/plain": [
       "'akash'"
      ]
     },
     "execution_count": 71,
     "metadata": {},
     "output_type": "execute_result"
    }
   ],
   "source": [
    "emp.employee_name()"
   ]
  },
  {
   "cell_type": "code",
   "execution_count": 73,
   "id": "d87e8f3e-346d-41ee-a2b9-d901ce4f012d",
   "metadata": {},
   "outputs": [
    {
     "data": {
      "text/plain": [
       "'january'"
      ]
     },
     "execution_count": 73,
     "metadata": {},
     "output_type": "execute_result"
    }
   ],
   "source": [
    "emp.month()"
   ]
  },
  {
   "cell_type": "code",
   "execution_count": 74,
   "id": "b0dd5222-be41-4422-8879-de795a5df5c8",
   "metadata": {},
   "outputs": [
    {
     "data": {
      "text/plain": [
       "25"
      ]
     },
     "execution_count": 74,
     "metadata": {},
     "output_type": "execute_result"
    }
   ],
   "source": [
    "emp.employee_present()"
   ]
  },
  {
   "cell_type": "code",
   "execution_count": 76,
   "id": "af73dad3-0838-45b6-87ce-1b60471efc17",
   "metadata": {},
   "outputs": [
    {
     "data": {
      "text/plain": [
       "5"
      ]
     },
     "execution_count": 76,
     "metadata": {},
     "output_type": "execute_result"
    }
   ],
   "source": [
    "emp.employee_absent()"
   ]
  },
  {
   "cell_type": "code",
   "execution_count": null,
   "id": "55d31529-ee9a-4f41-bc56-b273e0136f63",
   "metadata": {},
   "outputs": [],
   "source": []
  }
 ],
 "metadata": {
  "kernelspec": {
   "display_name": "Python 3 (ipykernel)",
   "language": "python",
   "name": "python3"
  },
  "language_info": {
   "codemirror_mode": {
    "name": "ipython",
    "version": 3
   },
   "file_extension": ".py",
   "mimetype": "text/x-python",
   "name": "python",
   "nbconvert_exporter": "python",
   "pygments_lexer": "ipython3",
   "version": "3.10.8"
  }
 },
 "nbformat": 4,
 "nbformat_minor": 5
}
